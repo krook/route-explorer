{
 "cells": [
  {
   "cell_type": "code",
   "execution_count": 1,
   "metadata": {
    "collapsed": true
   },
   "outputs": [],
   "source": [
    "import requests"
   ]
  },
  {
   "cell_type": "code",
   "execution_count": 2,
   "metadata": {},
   "outputs": [
    {
     "name": "stdout",
     "output_type": "stream",
     "text": [
      "https://api.census.gov/data/2016/pep/charagegroups?get=GEONAME,POP&for=state\n"
     ]
    }
   ],
   "source": [
    "# https://api.census.gov/data.html\n",
    "year=\"2016\"\n",
    "dataset=\"pep/charagegroups\"\n",
    "uri='/'.join([\"https://api.census.gov/data\", year, dataset])\n",
    "query=\"?get=GEONAME,POP&for=state\"\n",
    "print(uri+query)"
   ]
  },
  {
   "cell_type": "code",
   "execution_count": 4,
   "metadata": {},
   "outputs": [],
   "source": [
    "#get population for target geohash\n",
    "r = requests.get(uri+query)\n",
    "results = r.json()\n",
    "results.pop(0)\n",
    "total_pop = 0"
   ]
  },
  {
   "cell_type": "code",
   "execution_count": 5,
   "metadata": {},
   "outputs": [
    {
     "name": "stdout",
     "output_type": "stream",
     "text": [
      "Alabama\n",
      "4.86m\n",
      "-----\n",
      "Alaska\n",
      "0.74m\n",
      "-----\n",
      "Arizona\n",
      "6.93m\n",
      "-----\n",
      "Arkansas\n",
      "2.99m\n",
      "-----\n",
      "California\n",
      "39.25m\n",
      "-----\n",
      "Colorado\n",
      "5.54m\n",
      "-----\n",
      "Connecticut\n",
      "3.58m\n",
      "-----\n",
      "Delaware\n",
      "0.95m\n",
      "-----\n",
      "District of Columbia\n",
      "0.68m\n",
      "-----\n",
      "Florida\n",
      "20.61m\n",
      "-----\n",
      "Georgia\n",
      "10.31m\n",
      "-----\n",
      "Hawaii\n",
      "1.43m\n",
      "-----\n",
      "Idaho\n",
      "1.68m\n",
      "-----\n",
      "Illinois\n",
      "12.8m\n",
      "-----\n",
      "Indiana\n",
      "6.63m\n",
      "-----\n",
      "Iowa\n",
      "3.13m\n",
      "-----\n",
      "Kansas\n",
      "2.91m\n",
      "-----\n",
      "Kentucky\n",
      "4.44m\n",
      "-----\n",
      "Louisiana\n",
      "4.68m\n",
      "-----\n",
      "Maine\n",
      "1.33m\n",
      "-----\n",
      "Maryland\n",
      "6.02m\n",
      "-----\n",
      "Massachusetts\n",
      "6.81m\n",
      "-----\n",
      "Michigan\n",
      "9.93m\n",
      "-----\n",
      "Minnesota\n",
      "5.52m\n",
      "-----\n",
      "Mississippi\n",
      "2.99m\n",
      "-----\n",
      "Missouri\n",
      "6.09m\n",
      "-----\n",
      "Montana\n",
      "1.04m\n",
      "-----\n",
      "Nebraska\n",
      "1.91m\n",
      "-----\n",
      "Nevada\n",
      "2.94m\n",
      "-----\n",
      "New Hampshire\n",
      "1.33m\n",
      "-----\n",
      "New Jersey\n",
      "8.94m\n",
      "-----\n",
      "New Mexico\n",
      "2.08m\n",
      "-----\n",
      "New York\n",
      "19.75m\n",
      "-----\n",
      "North Carolina\n",
      "10.15m\n",
      "-----\n",
      "North Dakota\n",
      "0.76m\n",
      "-----\n",
      "Ohio\n",
      "11.61m\n",
      "-----\n",
      "Oklahoma\n",
      "3.92m\n",
      "-----\n",
      "Oregon\n",
      "4.09m\n",
      "-----\n",
      "Pennsylvania\n",
      "12.78m\n",
      "-----\n",
      "Rhode Island\n",
      "1.06m\n",
      "-----\n",
      "South Carolina\n",
      "4.96m\n",
      "-----\n",
      "South Dakota\n",
      "0.87m\n",
      "-----\n",
      "Tennessee\n",
      "6.65m\n",
      "-----\n",
      "Texas\n",
      "27.86m\n",
      "-----\n",
      "Utah\n",
      "3.05m\n",
      "-----\n",
      "Vermont\n",
      "0.62m\n",
      "-----\n",
      "Virginia\n",
      "8.41m\n",
      "-----\n",
      "Washington\n",
      "7.29m\n",
      "-----\n",
      "West Virginia\n",
      "1.83m\n",
      "-----\n",
      "Wisconsin\n",
      "5.78m\n",
      "-----\n",
      "Wyoming\n",
      "0.59m\n",
      "-----\n",
      "Puerto Rico\n",
      "3.41m\n",
      "-----\n"
     ]
    }
   ],
   "source": [
    "for row in results:\n",
    "    name=row[0]\n",
    "    population= round(float(row[1])/1000000, 2)\n",
    "    total_pop += population\n",
    "    print(name)\n",
    "    print(str(population) + \"m\")\n",
    "    print(\"-----\")"
   ]
  },
  {
   "cell_type": "code",
   "execution_count": 6,
   "metadata": {},
   "outputs": [
    {
     "name": "stdout",
     "output_type": "stream",
     "text": [
      "Total Reported: 326.5100000000001\n"
     ]
    }
   ],
   "source": [
    "print(\"Total Reported: \" + str(total_pop))"
   ]
  },
  {
   "cell_type": "code",
   "execution_count": null,
   "metadata": {
    "collapsed": true
   },
   "outputs": [],
   "source": []
  }
 ],
 "metadata": {
  "kernelspec": {
   "display_name": "Python [conda env:lantern]",
   "language": "python",
   "name": "conda-env-lantern-py"
  },
  "language_info": {
   "codemirror_mode": {
    "name": "ipython",
    "version": 3
   },
   "file_extension": ".py",
   "mimetype": "text/x-python",
   "name": "python",
   "nbconvert_exporter": "python",
   "pygments_lexer": "ipython3",
   "version": "3.7.0"
  }
 },
 "nbformat": 4,
 "nbformat_minor": 2
}
