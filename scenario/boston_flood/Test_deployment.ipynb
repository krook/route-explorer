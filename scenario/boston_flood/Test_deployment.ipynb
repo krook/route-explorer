{
 "cells": [
  {
   "cell_type": "code",
   "execution_count": 1,
   "metadata": {
    "collapsed": true
   },
   "outputs": [],
   "source": [
    "import urllib3, requests, json"
   ]
  },
  {
   "cell_type": "code",
   "execution_count": 6,
   "metadata": {
    "collapsed": true
   },
   "outputs": [],
   "source": [
    "import pandas as pd\n",
    "import numpy as np\n",
    "import matplotlib.pyplot as plt\n",
    "%matplotlib inline"
   ]
  },
  {
   "cell_type": "code",
   "execution_count": 7,
   "metadata": {},
   "outputs": [
    {
     "data": {
      "text/html": [
       "<div>\n",
       "<style scoped>\n",
       "    .dataframe tbody tr th:only-of-type {\n",
       "        vertical-align: middle;\n",
       "    }\n",
       "\n",
       "    .dataframe tbody tr th {\n",
       "        vertical-align: top;\n",
       "    }\n",
       "\n",
       "    .dataframe thead th {\n",
       "        text-align: right;\n",
       "    }\n",
       "</style>\n",
       "<table border=\"1\" class=\"dataframe\">\n",
       "  <thead>\n",
       "    <tr style=\"text-align: right;\">\n",
       "      <th></th>\n",
       "      <th>Distance_from_disaster_spot</th>\n",
       "      <th>Area_Population</th>\n",
       "      <th>Number_of_service_requests</th>\n",
       "      <th>Infant_population</th>\n",
       "      <th>Aged_population</th>\n",
       "      <th>Emergency_level</th>\n",
       "      <th>Hours_since_last_supply</th>\n",
       "      <th>Quality_score</th>\n",
       "      <th>Ideal_distribution</th>\n",
       "    </tr>\n",
       "  </thead>\n",
       "  <tbody>\n",
       "    <tr>\n",
       "      <th>0</th>\n",
       "      <td>0.047619</td>\n",
       "      <td>0.929392</td>\n",
       "      <td>0.141414</td>\n",
       "      <td>0.254216</td>\n",
       "      <td>0.098031</td>\n",
       "      <td>0.0</td>\n",
       "      <td>0.649162</td>\n",
       "      <td>0.656566</td>\n",
       "      <td>0.601800</td>\n",
       "    </tr>\n",
       "    <tr>\n",
       "      <th>1</th>\n",
       "      <td>0.095238</td>\n",
       "      <td>0.717182</td>\n",
       "      <td>0.212121</td>\n",
       "      <td>0.394766</td>\n",
       "      <td>0.164089</td>\n",
       "      <td>0.5</td>\n",
       "      <td>0.108027</td>\n",
       "      <td>0.060606</td>\n",
       "      <td>0.109677</td>\n",
       "    </tr>\n",
       "    <tr>\n",
       "      <th>2</th>\n",
       "      <td>0.571429</td>\n",
       "      <td>0.080398</td>\n",
       "      <td>0.949495</td>\n",
       "      <td>0.723630</td>\n",
       "      <td>0.743304</td>\n",
       "      <td>0.5</td>\n",
       "      <td>0.507377</td>\n",
       "      <td>0.242424</td>\n",
       "      <td>0.546140</td>\n",
       "    </tr>\n",
       "    <tr>\n",
       "      <th>3</th>\n",
       "      <td>1.000000</td>\n",
       "      <td>0.748632</td>\n",
       "      <td>0.050505</td>\n",
       "      <td>0.846334</td>\n",
       "      <td>0.481011</td>\n",
       "      <td>1.0</td>\n",
       "      <td>0.231308</td>\n",
       "      <td>0.525253</td>\n",
       "      <td>0.212106</td>\n",
       "    </tr>\n",
       "    <tr>\n",
       "      <th>4</th>\n",
       "      <td>0.476190</td>\n",
       "      <td>0.854467</td>\n",
       "      <td>0.555556</td>\n",
       "      <td>0.181273</td>\n",
       "      <td>0.976598</td>\n",
       "      <td>1.0</td>\n",
       "      <td>0.175044</td>\n",
       "      <td>0.434343</td>\n",
       "      <td>0.206174</td>\n",
       "    </tr>\n",
       "  </tbody>\n",
       "</table>\n",
       "</div>"
      ],
      "text/plain": [
       "   Distance_from_disaster_spot  Area_Population  Number_of_service_requests  \\\n",
       "0                     0.047619         0.929392                    0.141414   \n",
       "1                     0.095238         0.717182                    0.212121   \n",
       "2                     0.571429         0.080398                    0.949495   \n",
       "3                     1.000000         0.748632                    0.050505   \n",
       "4                     0.476190         0.854467                    0.555556   \n",
       "\n",
       "   Infant_population  Aged_population  Emergency_level  \\\n",
       "0           0.254216         0.098031              0.0   \n",
       "1           0.394766         0.164089              0.5   \n",
       "2           0.723630         0.743304              0.5   \n",
       "3           0.846334         0.481011              1.0   \n",
       "4           0.181273         0.976598              1.0   \n",
       "\n",
       "   Hours_since_last_supply  Quality_score  Ideal_distribution  \n",
       "0                 0.649162       0.656566            0.601800  \n",
       "1                 0.108027       0.060606            0.109677  \n",
       "2                 0.507377       0.242424            0.546140  \n",
       "3                 0.231308       0.525253            0.212106  \n",
       "4                 0.175044       0.434343            0.206174  "
      ]
     },
     "execution_count": 7,
     "metadata": {},
     "output_type": "execute_result"
    }
   ],
   "source": [
    "df= pd.read_csv('normalized_boston_flood_training.csv')\n",
    "df.head()"
   ]
  },
  {
   "cell_type": "code",
   "execution_count": 10,
   "metadata": {
    "collapsed": true
   },
   "outputs": [],
   "source": [
    "array_of_values_to_be_scored = df.iloc[22,0:8].values\n",
    "another_array_of_values_to_be_scored = df.iloc[48, 0:8].values"
   ]
  },
  {
   "cell_type": "code",
   "execution_count": 11,
   "metadata": {},
   "outputs": [
    {
     "data": {
      "text/plain": [
       "array([0.19047619, 0.45386572, 0.25252525, 0.27478066, 0.92246011,\n",
       "       0.5       , 0.27656914, 0.08080808])"
      ]
     },
     "execution_count": 11,
     "metadata": {},
     "output_type": "execute_result"
    }
   ],
   "source": [
    "array_of_values_to_be_scored"
   ]
  },
  {
   "cell_type": "code",
   "execution_count": null,
   "metadata": {
    "collapsed": true
   },
   "outputs": [],
   "source": []
  },
  {
   "cell_type": "code",
   "execution_count": null,
   "metadata": {
    "collapsed": true
   },
   "outputs": [],
   "source": []
  },
  {
   "cell_type": "code",
   "execution_count": 3,
   "metadata": {},
   "outputs": [],
   "source": [
    "# retrieve your wml_service_credentials_username, wml_service_credentials_password, and wml_service_credentials_url from the\n",
    "# Service credentials associated with your IBM Cloud Watson Machine Learning Service instance\n",
    "\n",
    "wml_credentials={\n",
    "\"url\": 'https://us-south.ml.cloud.ibm.com',\n",
    "\"username\": \"79de341a-e212-4a3c-8ed8-d8957fe11984\",\n",
    "\"password\": \"7282de90-ef45-4358-8916-b16b9664f6b3\"\n",
    "}"
   ]
  },
  {
   "cell_type": "code",
   "execution_count": 4,
   "metadata": {
    "collapsed": true
   },
   "outputs": [],
   "source": [
    "headers = urllib3.util.make_headers(basic_auth='{username}:{password}'.format(username=wml_credentials['username'], password=wml_credentials['password']))\n",
    "url = '{}/v3/identity/token'.format(wml_credentials['url'])\n",
    "response = requests.get(url, headers=headers)\n",
    "mltoken = json.loads(response.text).get('token')"
   ]
  },
  {
   "cell_type": "code",
   "execution_count": 5,
   "metadata": {
    "collapsed": true
   },
   "outputs": [],
   "source": [
    "header = {'Content-Type': 'application/json', 'Authorization': 'Bearer ' + mltoken}\n"
   ]
  },
  {
   "cell_type": "code",
   "execution_count": 12,
   "metadata": {
    "collapsed": true
   },
   "outputs": [],
   "source": [
    "payload_scoring = {\"fields\": [\"Distance_from_disaster_spot\", \\\n",
    "                              \"Area_Population\", \"Number_of_service_requests\", \\\n",
    "                              \"Infant_population\", \"Aged_population\", \"Emergency_level\",\\\n",
    "                              \"Hours_since_last_supply\", \"Quality_score\"], \\\n",
    "                   \"values\": [array_of_values_to_be_scored.tolist(), another_array_of_values_to_be_scored.tolist()]}\n"
   ]
  },
  {
   "cell_type": "code",
   "execution_count": 13,
   "metadata": {},
   "outputs": [
    {
     "name": "stdout",
     "output_type": "stream",
     "text": [
      "Scoring response\n",
      "{'fields': ['Distance_from_disaster_spot', 'Area_Population', 'Number_of_service_requests', 'Infant_population', 'Aged_population', 'Emergency_level', 'Hours_since_last_supply', 'Quality_score', 'features', 'prediction'], 'values': [[0.190476, 0.453866, 0.252525, 0.274781, 0.92246, 0.5, 0.276569, 0.080808, [0.7980863832780295, 1.575277999950337, 0.8663844618712883, 0.9519527591233915, 3.1689489374945072, 1.2316159881059863, 0.9506848602013357, 0.2746826494230209], 0.3183679839364733], [0.52381, 0.98705, 0.343434, 0.602955, 0.181965, 1.0, 0.544636, 0.464646, [2.1947417439722834, 3.425852894578973, 1.1782828681449522, 2.0888805116701827, 0.6251087238592329, 2.4632319762119725, 1.8721447433393281, 1.57942523418237], 0.6134152554255914]]}\n"
     ]
    }
   ],
   "source": [
    "response_scoring = requests.post('https://us-south.ml.cloud.ibm.com/v3/wml_instances/c9755156-1957-43d7-97eb-c8a735211ef1/deployments/a7388ee3-938e-41a8-96b8-473856d03e8c/online', json=payload_scoring, headers=header)\n",
    "print(\"Scoring response\")\n",
    "print(json.loads(response_scoring.text))"
   ]
  },
  {
   "cell_type": "code",
   "execution_count": null,
   "metadata": {
    "collapsed": true
   },
   "outputs": [],
   "source": [
    "ye"
   ]
  }
 ],
 "metadata": {
  "kernelspec": {
   "display_name": "Python [conda env:lantern]",
   "language": "python",
   "name": "conda-env-lantern-py"
  },
  "language_info": {
   "codemirror_mode": {
    "name": "ipython",
    "version": 3
   },
   "file_extension": ".py",
   "mimetype": "text/x-python",
   "name": "python",
   "nbconvert_exporter": "python",
   "pygments_lexer": "ipython3",
   "version": "3.7.0"
  }
 },
 "nbformat": 4,
 "nbformat_minor": 2
}
